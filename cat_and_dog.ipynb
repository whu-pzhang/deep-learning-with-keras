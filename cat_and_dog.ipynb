{
 "cells": [
  {
   "cell_type": "code",
   "execution_count": 1,
   "metadata": {},
   "outputs": [],
   "source": [
    "import numpy as np\n",
    "import os\n",
    "\n",
    "import matplotlib.pyplot as plt\n",
    "%matplotlib inline"
   ]
  },
  {
   "cell_type": "code",
   "execution_count": 5,
   "metadata": {},
   "outputs": [],
   "source": [
    "original_dataset_dir = '/home/pzhang/Downloads/ml_datasets/cat-and-dog'\n",
    "\n",
    "base_dir = '/home/pzhang/Downloads/ml_datasets/cat-and-dog-small'\n",
    "\n",
    "if not os.path.exists(base_dir):\n",
    "    os.mkdir(base_dir)"
   ]
  },
  {
   "cell_type": "code",
   "execution_count": 8,
   "metadata": {},
   "outputs": [
    {
     "name": "stdout",
     "output_type": "stream",
     "text": [
      "cats  dogs\r\n"
     ]
    }
   ],
   "source": [
    "!ls /home/pzhang/Downloads/ml_datasets/cat-and-dog/test_set"
   ]
  },
  {
   "cell_type": "code",
   "execution_count": 10,
   "metadata": {},
   "outputs": [
    {
     "name": "stdout",
     "output_type": "stream",
     "text": [
      "1012\n",
      "1013\n"
     ]
    }
   ],
   "source": [
    "!ls /home/pzhang/Downloads/ml_datasets/cat-and-dog/test_set/cats | wc -l\n",
    "!ls /home/pzhang/Downloads/ml_datasets/cat-and-dog/test_set/dogs | wc -l"
   ]
  },
  {
   "cell_type": "markdown",
   "metadata": {},
   "source": [
    "测试集中约有2000个样本"
   ]
  },
  {
   "cell_type": "code",
   "execution_count": 12,
   "metadata": {},
   "outputs": [
    {
     "name": "stdout",
     "output_type": "stream",
     "text": [
      "4001\n",
      "4006\n"
     ]
    }
   ],
   "source": [
    "!ls /home/pzhang/Downloads/ml_datasets/cat-and-dog/training_set/cats | wc -l\n",
    "!ls /home/pzhang/Downloads/ml_datasets/cat-and-dog/training_set/dogs | wc -l"
   ]
  },
  {
   "cell_type": "markdown",
   "metadata": {},
   "source": [
    " 训练集大概有 8000 个样本"
   ]
  },
  {
   "cell_type": "markdown",
   "metadata": {},
   "source": [
    "## 划分验证集"
   ]
  },
  {
   "cell_type": "code",
   "execution_count": 26,
   "metadata": {},
   "outputs": [
    {
     "data": {
      "text/plain": [
       "(4000, 4005)"
      ]
     },
     "execution_count": 26,
     "metadata": {},
     "output_type": "execute_result"
    }
   ],
   "source": [
    "train_path = os.path.join(original_dataset_dir, 'training_set')\n",
    "test_path = os.path.join(original_dataset_dir, 'test_set')\n",
    "\n",
    "train_path_cats = os.path.join(train_path, 'cats')\n",
    "train_path_dogs = os.path.join(train_path, 'dogs')\n",
    "\n",
    "path_cats = [\n",
    "    os.path.join(train_path_cats, path) for path in os.listdir(train_path_cats)\n",
    "    if '.jpg' in path\n",
    "]\n",
    "path_dogs = [\n",
    "    os.path.join(train_path_dogs, path) for path in os.listdir(train_path_dogs)\n",
    "    if '.jpg' in path\n",
    "]\n",
    "\n",
    "len(path_cats), len(path_dogs)"
   ]
  },
  {
   "cell_type": "markdown",
   "metadata": {},
   "source": [
    "将训练集8000个样本中的6000做训练集，余下的2000个样本当做验证集。需要注意的是，训练和验证集中`cat`和`dog`的比例均为50%。"
   ]
  },
  {
   "cell_type": "code",
   "execution_count": 18,
   "metadata": {},
   "outputs": [],
   "source": [
    "train_set = np.zeros((6000, 150, 150, 3), dtype=np.float32)\n"
   ]
  },
  {
   "cell_type": "code",
   "execution_count": 19,
   "metadata": {},
   "outputs": [],
   "source": [
    "from keras.preprocessing.image import ImageDataGenerator\n"
   ]
  },
  {
   "cell_type": "code",
   "execution_count": null,
   "metadata": {},
   "outputs": [],
   "source": []
  },
  {
   "cell_type": "code",
   "execution_count": null,
   "metadata": {},
   "outputs": [],
   "source": []
  },
  {
   "cell_type": "markdown",
   "metadata": {},
   "source": [
    "## 数据预处理\n",
    "\n",
    "大概分为以下几个步骤\n",
    "\n",
    "1. 读取图像文件\n",
    " "
   ]
  }
 ],
 "metadata": {
  "kernelspec": {
   "display_name": "Python 3",
   "language": "python",
   "name": "python3"
  },
  "language_info": {
   "codemirror_mode": {
    "name": "ipython",
    "version": 3
   },
   "file_extension": ".py",
   "mimetype": "text/x-python",
   "name": "python",
   "nbconvert_exporter": "python",
   "pygments_lexer": "ipython3",
   "version": "3.6.5"
  },
  "toc": {
   "base_numbering": 1,
   "nav_menu": {},
   "number_sections": true,
   "sideBar": true,
   "skip_h1_title": false,
   "title_cell": "Table of Contents",
   "title_sidebar": "Contents",
   "toc_cell": false,
   "toc_position": {},
   "toc_section_display": true,
   "toc_window_display": false
  }
 },
 "nbformat": 4,
 "nbformat_minor": 2
}
